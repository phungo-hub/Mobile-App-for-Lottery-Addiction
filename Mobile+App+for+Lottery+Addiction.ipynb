{
 "cells": [
  {
   "cell_type": "markdown",
   "metadata": {
    "collapsed": true
   },
   "source": [
    "Many people start playing the lottery for fun, but for some this activity turns into a habit which eventually escalates into addiction. Like other compulsive gamblers, lottery addicts soon begin spending from their savings and loans, they start to accumulate debts, and eventually engage in desperate behaviors like theft.\n",
    "\n",
    "A medical institute that aims to prevent and treat gambling addictions wants to build a dedicated mobile app to help lottery addicts better estimate their chances of winning. The institute has a team of engineers that will build the app, but they need us to create the logical core of the app and calculate probabilities.\n",
    "\n",
    "For the first version of the app, they want us to focus on the [6/49 lottery](https://en.wikipedia.org/wiki/Lotto_6/49) and build functions that enable users to answer questions like:\n",
    "\n",
    "What is the probability of winning the big prize with a single ticket?\n",
    "What is the probability of winning the big prize if we play 40 different tickets (or any other number)?\n",
    "What is the probability of having at least five (or four, or three, or two) winning numbers on a single ticket?\n",
    "The institute also wants us to consider historical data coming from the national 6/49 lottery game in Canada. The data set has data for 3,665 drawings, dating from 1982 to 2018 (we'll come back to this).\n",
    "\n",
    "The scenario we're following throughout this project is fictional — the main purpose is to practice applying the concepts in a setting that simulates a real-world scenario.\n",
    "\n",
    "You'll be able to find the solutions to this project at this link or by clicking the key icon on the top right of the interface."
   ]
  },
  {
   "cell_type": "markdown",
   "metadata": {},
   "source": [
    "# Core Functions"
   ]
  },
  {
   "cell_type": "markdown",
   "metadata": {},
   "source": [
    "Throughout the project, we'll need to calculate repeatedly probabilities and combinations. As a consequence, we'll start by writing two functions that we'll use often:\n",
    "- A function that calculates factorials; and\n",
    "- A function that calculates combinations.\n",
    "\n",
    "To calculate factorials, this is the formula we learned we need to use:\n",
    " n! = n * (n-1) * (n-2) * ... * 2 * 1\n",
    " \n",
    "In the 6/49 lottery, six numbers are drawn from a set of 49 numbers that range from 1 to 49. The drawing is done without replacement, which means once a number is drawn, it's not put back in the set.\n",
    "\n",
    "To find the number of combinations when we're sampling without replacement and taking only k objects from a group of n objects, we can use the formula:\n",
    "\\documentclass{article}  \n",
    "\\begin{document}  \n",
    "\\binom nk=^nC_k=\\frac{n!}{k!(n-k)!} - combination $  \n",
    "end{document}"
   ]
  },
  {
   "cell_type": "code",
   "execution_count": 1,
   "metadata": {
    "collapsed": false
   },
   "outputs": [],
   "source": [
    "def factorial(n):\n",
    "    result = 1\n",
    "    for i in range (2,n+1,1):\n",
    "        result *=i\n",
    "    return result\n",
    "\n",
    "def combinations(n,k):\n",
    "    numerator = factorial(n)\n",
    "    denominator = factorial(k)*factorial(n-k)\n",
    "    return numerator / denominator"
   ]
  },
  {
   "cell_type": "markdown",
   "metadata": {},
   "source": [
    "# One-ticket Probability"
   ]
  },
  {
   "cell_type": "markdown",
   "metadata": {},
   "source": [
    "In the 6/49 lottery, six numbers are drawn from a set of 49 numbers that range from 1 to 49. A player wins the big prize if the six numbers on their tickets match all the six numbers drawn. If a player has a ticket with the numbers {13, 22, 24, 27, 42, 44}, he only wins the big prize if the numbers drawn are {13, 22, 24, 27, 42, 44}. If only one number differs, he doesn't win.\n",
    "\n",
    "For the first version of the app, we want players to be able to calculate the probability of winning the big prize with the various numbers they play on a single ticket (for each ticket a player chooses six numbers out of 49). So, we'll start by building a function that calculates the probability of winning the big prize for any given ticket.\n",
    "\n",
    "We discussed with the engineering team of the medical institute, and they told us we need to be aware of the following details when we write the function:\n",
    "\n",
    "- Inside the app, the user inputs six different numbers from 1 to 49.\n",
    "- Under the hood, the six numbers will come as a Python list, which will serve as the single input to our function.\n",
    "- The engineering team wants the function to print the probability value in a friendly way — in a way that people without any probability training are able to understand."
   ]
  },
  {
   "cell_type": "code",
   "execution_count": 2,
   "metadata": {
    "collapsed": false
   },
   "outputs": [
    {
     "name": "stdout",
     "output_type": "stream",
     "text": [
      "The chance for you to win with numbers [13, 22, 24, 27, 42, 44] is 0.0000072%.\n",
      "In other words, you have 1 in 13983816.0 chances to win\n"
     ]
    }
   ],
   "source": [
    "def one_ticket_probability(user_numbers):\n",
    "    total_outcomes = combinations(49,6)\n",
    "    probability = (1/total_outcomes)*100\n",
    "    \n",
    "    print('''The chance for you to win with numbers {} is {:.7f}%.\n",
    "In other words, you have 1 in {} chances to win'''.format(user_numbers, probability, total_outcomes))\n",
    "\n",
    "user_pick = [13,22,24,27,42,44]\n",
    "one_ticket_probability(user_pick)"
   ]
  },
  {
   "cell_type": "code",
   "execution_count": 3,
   "metadata": {
    "collapsed": false
   },
   "outputs": [
    {
     "name": "stdout",
     "output_type": "stream",
     "text": [
      "The chance for you to win with numbers [3, 5, 6, 7, 49, 31, 29] is 0.0000072%.\n",
      "In other words, you have 1 in 13983816.0 chances to win\n"
     ]
    }
   ],
   "source": [
    "user_pick1 = [3,5,6,7,49,31,29]\n",
    "one_ticket_probability(user_pick1)"
   ]
  },
  {
   "cell_type": "markdown",
   "metadata": {},
   "source": [
    "# Historical Data Check for Canada Lottery"
   ]
  },
  {
   "cell_type": "markdown",
   "metadata": {},
   "source": [
    "On the previous screen, we wrote a function that can tell users what is the probability of winning the big prize with a single ticket. For the first version of the app, however, users should also be able to compare their ticket against the historical lottery data in Canada and determine whether they would have ever won by now.\n",
    "\n",
    "On this screen, we'll focus on exploring the historical data coming from the Canada 6/49 lottery. The data set can be downloaded from (Kaggle)[https://www.kaggle.com/datascienceai/lottery-dataset]\n",
    "\n",
    "The data set contains historical data for 3,665 drawings (each row shows data for a single drawing), dating from 1982 to 2018"
   ]
  },
  {
   "cell_type": "code",
   "execution_count": 4,
   "metadata": {
    "collapsed": false
   },
   "outputs": [
    {
     "name": "stdout",
     "output_type": "stream",
     "text": [
      "(3665, 11)\n",
      "   PRODUCT  DRAW NUMBER  SEQUENCE NUMBER  DRAW DATE  NUMBER DRAWN 1  \\\n",
      "0      649            1                0  6/12/1982               3   \n",
      "1      649            2                0  6/19/1982               8   \n",
      "2      649            3                0  6/26/1982               1   \n",
      "\n",
      "   NUMBER DRAWN 2  NUMBER DRAWN 3  NUMBER DRAWN 4  NUMBER DRAWN 5  \\\n",
      "0              11              12              14              41   \n",
      "1              33              36              37              39   \n",
      "2               6              23              24              27   \n",
      "\n",
      "   NUMBER DRAWN 6  BONUS NUMBER  \n",
      "0              43            13  \n",
      "1              41             9  \n",
      "2              39            34  \n",
      "      PRODUCT  DRAW NUMBER  SEQUENCE NUMBER  DRAW DATE  NUMBER DRAWN 1  \\\n",
      "3662      649         3589                0  6/13/2018               6   \n",
      "3663      649         3590                0  6/16/2018               2   \n",
      "3664      649         3591                0  6/20/2018              14   \n",
      "\n",
      "      NUMBER DRAWN 2  NUMBER DRAWN 3  NUMBER DRAWN 4  NUMBER DRAWN 5  \\\n",
      "3662              22              24              31              32   \n",
      "3663              15              21              31              38   \n",
      "3664              24              31              35              37   \n",
      "\n",
      "      NUMBER DRAWN 6  BONUS NUMBER  \n",
      "3662              34            16  \n",
      "3663              49             8  \n",
      "3664              48            17  \n"
     ]
    }
   ],
   "source": [
    "import pandas as pd\n",
    "\n",
    "data = pd.read_csv(\"649.csv\")\n",
    "print(data.shape)\n",
    "print(data.head(3))\n",
    "print(data.tail(3))"
   ]
  },
  {
   "cell_type": "markdown",
   "metadata": {},
   "source": [
    "# Function for Historical Data Check"
   ]
  },
  {
   "cell_type": "markdown",
   "metadata": {},
   "source": [
    "On the previous screen, we focused on opening and exploring the Canada lottery data set. On this screen, we're going to write a function that will enable users to compare their ticket against the historical lottery data in Canada and determine whether they would have ever won by now.\n",
    "\n",
    "The engineering team told us that we need to be aware of the following details:\n",
    "\n",
    "- Inside the app, the user inputs six different numbers from 1 to 49.\n",
    "- Under the hood, the six numbers will come as a Python list and serve as an input to our function.\n",
    "- The engineering team wants us to write a function that prints:\n",
    "    - the number of times the combination selected occurred in the Canada data set; and\n",
    "    - the probability of winning the big prize in the next drawing with that combination."
   ]
  },
  {
   "cell_type": "code",
   "execution_count": 5,
   "metadata": {
    "collapsed": false,
    "scrolled": true
   },
   "outputs": [
    {
     "name": "stdout",
     "output_type": "stream",
     "text": [
      "0    {3, 41, 11, 12, 43, 14}\n",
      "1    {33, 36, 37, 39, 8, 41}\n",
      "2     {1, 6, 39, 23, 24, 27}\n",
      "dtype: object\n"
     ]
    }
   ],
   "source": [
    "def extract_numbers(row):\n",
    "    row = row[4:10]\n",
    "    row = set(row.values)\n",
    "    return row\n",
    "\n",
    "winning_numbers = data.apply(extract_numbers,axis=1)\n",
    "\n",
    "print(winning_numbers.head(3))"
   ]
  },
  {
   "cell_type": "code",
   "execution_count": 6,
   "metadata": {
    "collapsed": false
   },
   "outputs": [
    {
     "name": "stdout",
     "output_type": "stream",
     "text": [
      "Unfortunately, the numbers {3, 41, 11, 12, 43, 14, 13} has never happened in history\n",
      "This doesn't mean you can't win - You still have 0.0000072% to win with the numbers {3, 41, 11, 12, 43, 14, 13}\n"
     ]
    }
   ],
   "source": [
    "def check_historical_occurence(user_numbers, data_check):\n",
    "    user_numbers = set(user_numbers)\n",
    "    check_occurence = user_numbers == data_check\n",
    "    n_occurences = check_occurence.sum()\n",
    "    \n",
    "    if n_occurences == 0:\n",
    "        print('''Unfortunately, the numbers {} has never happened in history\n",
    "This doesn't mean you can't win - You still have 0.0000072% to win with the numbers {}'''.format(user_numbers, user_numbers))\n",
    "        \n",
    "    else:\n",
    "        print('''The numbers {} has happened {} time(s) in history. \n",
    "Your chance to win the big price is 0.0000072%'''.format(user_numbers, n_occurences))\n",
    "        \n",
    "        \n",
    "test1 = [3,11,12,14,41,43,13]\n",
    "check_historical_occurence(test1, winning_numbers)"
   ]
  },
  {
   "cell_type": "code",
   "execution_count": 7,
   "metadata": {
    "collapsed": false
   },
   "outputs": [
    {
     "name": "stdout",
     "output_type": "stream",
     "text": [
      "The numbers {3, 41, 11, 12, 43, 14} has happened 1 time(s) in history. \n",
      "Your chance to win the big price is 0.0000072%\n"
     ]
    }
   ],
   "source": [
    "test2 = [3, 41, 11, 12 ,43 ,14]\n",
    "check_historical_occurence(test2, winning_numbers)"
   ]
  },
  {
   "cell_type": "markdown",
   "metadata": {},
   "source": [
    "# Multi-ticket Probability"
   ]
  },
  {
   "cell_type": "markdown",
   "metadata": {},
   "source": [
    "Lottery addicts usually play more than one ticket on a single drawing, thinking that this might increase their chances of winning significantly. Our purpose is to help them better estimate their chances of winning — on this screen, we're going to write a function that will allow the users to calculate the chances of winning for any number of different tickets.\n",
    "\n",
    "We've talked with the engineering team and they gave us the following information:\n",
    "\n",
    "- The user will input the number of different tickets they want to play (without inputting the specific combinations they intend to play).\n",
    "- Our function will see an integer between 1 and 13,983,816 (the maximum number of different tickets).\n",
    "- The function should print information about the probability of winning the big prize depending on the number of different tickets played."
   ]
  },
  {
   "cell_type": "code",
   "execution_count": 8,
   "metadata": {
    "collapsed": false,
    "scrolled": true
   },
   "outputs": [
    {
     "name": "stdout",
     "output_type": "stream",
     "text": [
      "The probability to win the big prize with 1 ticket(s) is: 0.0000001%\n",
      "The probability to win the big prize with 10 ticket(s) is: 0.0000007%\n",
      "The probability to win the big prize with 100 ticket(s) is: 0.0000072%\n",
      "The probability to win the big prize with 10000 ticket(s) is: 0.0007151%\n",
      "The probability to win the big prize with 1000000 ticket(s) is: 0.0715112%\n",
      "The probability to win the big prize with 6991908 ticket(s) is: 0.5000000%\n",
      "The probability to win the big prize with 13983816 ticket(s) is: 1.0000000%\n"
     ]
    }
   ],
   "source": [
    "def multi_ticket_probability(tickets):\n",
    "    total_outcomes = combinations(49,6) #calculate the number of outcomes\n",
    "    p_outcomes = tickets / total_outcomes #calculate the probability for the number of tickets inputted\n",
    "    \n",
    "    print('''The probability to win the big prize with {} ticket(s) is: {:.7f}%'''.format(tickets, p_outcomes))\n",
    "    \n",
    "test = [1, 10, 100, 10000, 1000000, 6991908, 13983816]\n",
    "\n",
    "for t in test:\n",
    "    multi_ticket_probability(t)"
   ]
  },
  {
   "cell_type": "markdown",
   "metadata": {},
   "source": [
    "# Less Winning Numbers - Function"
   ]
  },
  {
   "cell_type": "markdown",
   "metadata": {},
   "source": [
    "We're going to write one more function to allow the users to calculate probabilities for two, three, four, or five winning numbers.\n",
    "\n",
    "For extra context, in most 6/49 lotteries there are smaller prizes if a player's ticket match two, three, four, or five of the six numbers drawn. As a consequence, the users might be interested in knowing the probability of having two, three, four, or five winning numbers.\n",
    "\n",
    "These are the engineering details we'll need to be aware of:\n",
    "\n",
    "- Inside the app, the user inputs:\n",
    "    - six different numbers from 1 to 49; and\n",
    "    - an integer between 2 and 5 that represents the number of winning numbers expected\n",
    "- Our function prints information about the probability of having the inputted number of winning numbers."
   ]
  },
  {
   "cell_type": "code",
   "execution_count": 9,
   "metadata": {
    "collapsed": false
   },
   "outputs": [
    {
     "name": "stdout",
     "output_type": "stream",
     "text": [
      "The probability to win at least a price with 2 numbers is 13.2378029%\n",
      "----------------------------\n",
      "The probability to win at least a price with 3 numbers is 1.7650404%\n",
      "----------------------------\n",
      "The probability to win at least a price with 4 numbers is 0.0968620%\n",
      "----------------------------\n",
      "The probability to win at least a price with 5 numbers is 0.0018450%\n",
      "----------------------------\n"
     ]
    }
   ],
   "source": [
    "def probability_less_6(number):\n",
    "    successful_outcomes = combinations(6,number)\n",
    "    n_combinations_remaining = combinations(43, 6-number)\n",
    "    total_outcomes = successful_outcomes * n_combinations_remaining\n",
    "    win_prob = (total_outcomes / combinations(49,6)) * 100\n",
    "    \n",
    "    print('''The probability to win at least a price with {} numbers is {:.7f}%'''.format(number, win_prob))\n",
    "    \n",
    "test_num = [2,3,4,5]\n",
    "for t in test_num:\n",
    "    probability_less_6(t)\n",
    "    print(\"-\"*28)"
   ]
  },
  {
   "cell_type": "code",
   "execution_count": null,
   "metadata": {
    "collapsed": true
   },
   "outputs": [],
   "source": []
  }
 ],
 "metadata": {
  "kernelspec": {
   "display_name": "Python 3",
   "language": "python",
   "name": "python3"
  },
  "language_info": {
   "codemirror_mode": {
    "name": "ipython",
    "version": 3
   },
   "file_extension": ".py",
   "mimetype": "text/x-python",
   "name": "python",
   "nbconvert_exporter": "python",
   "pygments_lexer": "ipython3",
   "version": "3.4.3"
  }
 },
 "nbformat": 4,
 "nbformat_minor": 2
}
